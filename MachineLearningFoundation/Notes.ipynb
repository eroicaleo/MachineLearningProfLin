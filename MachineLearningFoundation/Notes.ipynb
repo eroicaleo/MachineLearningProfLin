{
 "cells": [
  {
   "cell_type": "markdown",
   "metadata": {},
   "source": [
    "# Lecture 1\n",
    "\n",
    "The course has 4 parts:\n",
    "\n",
    "1. When can machine learn?\n",
    "2. Why can machine learn?\n",
    "3. How can machine learn?\n",
    "4. How can machine learn better?\n",
    "\n",
    "Human learning: observation -> skill\n",
    "\n",
    "Machine learning: data -> skill\n",
    "\n",
    "skill means improve performance measure.\n",
    "\n",
    "Application: tree recognition. Use rule based hand program is hard.\n",
    "A child learn by seeing a lot of examples.\n",
    "\n",
    "Key essence of machine learning:\n",
    "\n",
    "* exists some underlying pattern to be learned\n",
    "    * so performance can be improved\n",
    "* but no programmable (easy) definition\n",
    "    * so 'ML' is needed\n",
    "* there is data about the pattern\n",
    "\n",
    "## The Application\n",
    "\n",
    "* 衣，食，住，行\n",
    "* Education: online tutoring system\n",
    "    * ML determines the strength of student and difficulty of questions KDD Cup 2010\n",
    "* Entertainment: recommender system KDD Cup 2011"
   ]
  }
 ],
 "metadata": {
  "anaconda-cloud": {},
  "kernelspec": {
   "display_name": "R",
   "language": "R",
   "name": "ir"
  },
  "language_info": {
   "codemirror_mode": "r",
   "file_extension": ".r",
   "mimetype": "text/x-r-source",
   "name": "R",
   "pygments_lexer": "r",
   "version": "3.3.1"
  }
 },
 "nbformat": 4,
 "nbformat_minor": 2
}
