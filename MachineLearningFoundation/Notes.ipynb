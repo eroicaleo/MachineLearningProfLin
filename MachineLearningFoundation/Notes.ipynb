{
 "cells": [
  {
   "cell_type": "markdown",
   "metadata": {},
   "source": [
    "# Lecture 1\n",
    "\n",
    "The course has 4 parts:\n",
    "\n",
    "1. When can machine learn?\n",
    "2. Why can machine learn?\n",
    "3. How can machine learn?\n",
    "4. How can machine learn better?\n",
    "\n",
    "Human learning: observation -> skill\n",
    "\n",
    "Machine learning: data -> skill\n",
    "\n",
    "skill means improve performance measure.\n",
    "\n",
    "Application: tree recognition. Use rule based hand program is hard.\n",
    "A child learn by seeing a lot of examples.\n",
    "\n",
    "Key essence of machine learning:\n",
    "\n",
    "* exists some underlying pattern to be learned\n",
    "    * so performance can be improved\n",
    "* but no programmable (easy) definition\n",
    "    * so 'ML' is needed\n",
    "* there is data about the pattern\n",
    "\n",
    "## The Application\n",
    "\n",
    "* 衣，食，住，行\n",
    "* Education: online tutoring system\n",
    "    * ML determines the strength of student and difficulty of questions KDD Cup 2010\n",
    "* Entertainment: recommender system KDD Cup 2011"
   ]
  },
  {
   "cell_type": "markdown",
   "metadata": {},
   "source": [
    "## The components of learning\n",
    "\n",
    "1. input x\n",
    "2. output y\n",
    "3. unknown pattern to be learned, also called target function f\n",
    "4. Data: D = {(x0, y0), (x1, y1)}\n",
    "5. hypothesis <=> g: skill with good performance\n",
    "\n",
    "Hypothesis set contains candidate formula, which can contain good or bad hypothesis.\n",
    "\n",
    "Learning model is algorithm plus hypothesis set."
   ]
  },
  {
   "cell_type": "markdown",
   "metadata": {
    "collapsed": true
   },
   "source": [
    "## Machine learning and other fields\n",
    "\n",
    "* Artificial Intelligence: compute something that shows intelligent behaviour\n",
    "    * ML is one possible route to realize AI.\n",
    "* Statistics: use data to make inference about an unknow process\n",
    "    * statistics can achieve ML\n",
    "    * Statistics doesn't care about computation"
   ]
  },
  {
   "cell_type": "markdown",
   "metadata": {},
   "source": [
    "# Lecture 2"
   ]
  },
  {
   "cell_type": "code",
   "execution_count": null,
   "metadata": {
    "collapsed": true
   },
   "outputs": [],
   "source": []
  }
 ],
 "metadata": {
  "anaconda-cloud": {},
  "kernelspec": {
   "display_name": "R",
   "language": "R",
   "name": "ir"
  },
  "language_info": {
   "codemirror_mode": "r",
   "file_extension": ".r",
   "mimetype": "text/x-r-source",
   "name": "R",
   "pygments_lexer": "r",
   "version": "3.3.1"
  }
 },
 "nbformat": 4,
 "nbformat_minor": 2
}
